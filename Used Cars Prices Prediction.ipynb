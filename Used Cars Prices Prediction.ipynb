{
 "cells": [
  {
   "cell_type": "code",
   "execution_count": 35,
   "metadata": {
    "id": "AdgJJlH40_bQ"
   },
   "outputs": [],
   "source": [
    "import numpy as np        # Fundamental package for linear algebra and multidimensional arrays\n",
    "import pandas as pd       # Data analysis and manipultion tool"
   ]
  },
  {
   "cell_type": "code",
   "execution_count": 2,
   "metadata": {
    "id": "5inGNMiR1hKx"
   },
   "outputs": [],
   "source": [
    "# In read_csv() function, we have passed the location to where the files are located in the dphi official github page.\n",
    "train_data = pd.read_csv(\"https://raw.githubusercontent.com/dphi-official/Datasets/master/used_car_price/train_set_label.csv\" )"
   ]
  },
  {
   "cell_type": "code",
   "execution_count": null,
   "metadata": {
    "colab": {
     "base_uri": "https://localhost:8080/",
     "height": 360
    },
    "id": "VqmcDklBQxhc",
    "outputId": "953824d3-7926-447a-b4c9-28c7eaae20e3"
   },
   "outputs": [],
   "source": [
    "train_data.head()"
   ]
  },
  {
   "cell_type": "code",
   "execution_count": null,
   "metadata": {
    "colab": {
     "base_uri": "https://localhost:8080/"
    },
    "id": "HyFNVOblQ0Ra",
    "outputId": "575bf0ac-1220-4fd4-c2e7-6edb6f063e6e"
   },
   "outputs": [],
   "source": [
    "train_data.info()"
   ]
  },
  {
   "cell_type": "code",
   "execution_count": 5,
   "metadata": {
    "id": "bciCbG03TVlk"
   },
   "outputs": [],
   "source": [
    "train_data = train_data.select_dtypes(exclude='object')"
   ]
  },
  {
   "cell_type": "code",
   "execution_count": 6,
   "metadata": {
    "colab": {
     "base_uri": "https://localhost:8080/",
     "height": 204
    },
    "id": "22t9PbEAafCC",
    "outputId": "f2240339-df1f-4dcf-e9f7-7589d9626421"
   },
   "outputs": [
    {
     "data": {
      "text/html": [
       "<div>\n",
       "<style scoped>\n",
       "    .dataframe tbody tr th:only-of-type {\n",
       "        vertical-align: middle;\n",
       "    }\n",
       "\n",
       "    .dataframe tbody tr th {\n",
       "        vertical-align: top;\n",
       "    }\n",
       "\n",
       "    .dataframe thead th {\n",
       "        text-align: right;\n",
       "    }\n",
       "</style>\n",
       "<table border=\"1\" class=\"dataframe\">\n",
       "  <thead>\n",
       "    <tr style=\"text-align: right;\">\n",
       "      <th></th>\n",
       "      <th>year</th>\n",
       "      <th>odometer</th>\n",
       "      <th>county</th>\n",
       "      <th>latitude</th>\n",
       "      <th>longitude</th>\n",
       "      <th>price_of_car</th>\n",
       "    </tr>\n",
       "  </thead>\n",
       "  <tbody>\n",
       "    <tr>\n",
       "      <th>0</th>\n",
       "      <td>2018.0</td>\n",
       "      <td>NaN</td>\n",
       "      <td>NaN</td>\n",
       "      <td>29.5407</td>\n",
       "      <td>-98.5521</td>\n",
       "      <td>24900</td>\n",
       "    </tr>\n",
       "    <tr>\n",
       "      <th>1</th>\n",
       "      <td>2006.0</td>\n",
       "      <td>169438.0</td>\n",
       "      <td>NaN</td>\n",
       "      <td>33.5161</td>\n",
       "      <td>-82.0785</td>\n",
       "      <td>0</td>\n",
       "    </tr>\n",
       "    <tr>\n",
       "      <th>2</th>\n",
       "      <td>NaN</td>\n",
       "      <td>NaN</td>\n",
       "      <td>NaN</td>\n",
       "      <td>NaN</td>\n",
       "      <td>NaN</td>\n",
       "      <td>4500</td>\n",
       "    </tr>\n",
       "    <tr>\n",
       "      <th>3</th>\n",
       "      <td>NaN</td>\n",
       "      <td>NaN</td>\n",
       "      <td>NaN</td>\n",
       "      <td>NaN</td>\n",
       "      <td>NaN</td>\n",
       "      <td>20000</td>\n",
       "    </tr>\n",
       "    <tr>\n",
       "      <th>4</th>\n",
       "      <td>NaN</td>\n",
       "      <td>NaN</td>\n",
       "      <td>NaN</td>\n",
       "      <td>NaN</td>\n",
       "      <td>NaN</td>\n",
       "      <td>0</td>\n",
       "    </tr>\n",
       "  </tbody>\n",
       "</table>\n",
       "</div>"
      ],
      "text/plain": [
       "     year  odometer  county  latitude  longitude  price_of_car\n",
       "0  2018.0       NaN     NaN   29.5407   -98.5521         24900\n",
       "1  2006.0  169438.0     NaN   33.5161   -82.0785             0\n",
       "2     NaN       NaN     NaN       NaN        NaN          4500\n",
       "3     NaN       NaN     NaN       NaN        NaN         20000\n",
       "4     NaN       NaN     NaN       NaN        NaN             0"
      ]
     },
     "execution_count": 6,
     "metadata": {},
     "output_type": "execute_result"
    }
   ],
   "source": [
    "train_data.head()"
   ]
  },
  {
   "cell_type": "code",
   "execution_count": 7,
   "metadata": {
    "colab": {
     "base_uri": "https://localhost:8080/"
    },
    "id": "I-MzK1SfaieZ",
    "outputId": "e4369dfc-eb0a-4a9f-a671-16081c8a4ba0"
   },
   "outputs": [
    {
     "name": "stdout",
     "output_type": "stream",
     "text": [
      "<class 'pandas.core.frame.DataFrame'>\n",
      "RangeIndex: 37500 entries, 0 to 37499\n",
      "Data columns (total 6 columns):\n",
      " #   Column        Non-Null Count  Dtype  \n",
      "---  ------        --------------  -----  \n",
      " 0   year          21525 non-null  float64\n",
      " 1   odometer      17571 non-null  float64\n",
      " 2   county        0 non-null      float64\n",
      " 3   latitude      21232 non-null  float64\n",
      " 4   longitude     21232 non-null  float64\n",
      " 5   price_of_car  37500 non-null  int64  \n",
      "dtypes: float64(5), int64(1)\n",
      "memory usage: 1.7 MB\n"
     ]
    }
   ],
   "source": [
    "train_data.info()"
   ]
  },
  {
   "cell_type": "code",
   "execution_count": null,
   "metadata": {
    "id": "jYDTW-U8alFJ"
   },
   "outputs": [],
   "source": [
    "train_data = train_data.drop('county', axis = 1)"
   ]
  },
  {
   "cell_type": "code",
   "execution_count": null,
   "metadata": {
    "colab": {
     "base_uri": "https://localhost:8080/"
    },
    "id": "sAUb1NaeBiyf",
    "outputId": "d2fa0541-57d6-4b09-c812-077c714714e7"
   },
   "outputs": [],
   "source": [
    "train_data.isnull().sum()"
   ]
  },
  {
   "cell_type": "code",
   "execution_count": 10,
   "metadata": {
    "id": "HfdpfI4oBxRs"
   },
   "outputs": [],
   "source": [
    "from sklearn.impute import SimpleImputer\n",
    "imputer = SimpleImputer(missing_values=np.nan, strategy='most_frequent')"
   ]
  },
  {
   "cell_type": "code",
   "execution_count": 11,
   "metadata": {
    "id": "-_U1u4FQBxNe"
   },
   "outputs": [],
   "source": [
    "train_year = train_data['year']\n",
    "'''pd.DataFrame(pd.Series(train_year.ravel()).describe()).transpose()'''\n",
    "train_data['year'] = imputer.fit_transform(train_data['year'].values.reshape(-1, 1))"
   ]
  },
  {
   "cell_type": "code",
   "execution_count": 12,
   "metadata": {
    "id": "5Hf17a8eD6cK"
   },
   "outputs": [],
   "source": [
    "imputer = SimpleImputer(missing_values=np.nan, strategy='mean')"
   ]
  },
  {
   "cell_type": "code",
   "execution_count": 13,
   "metadata": {
    "id": "ybNK-xnyBxJc"
   },
   "outputs": [],
   "source": [
    "train_odometer = train_data['odometer']\n",
    "'''pd.DataFrame(pd.Series(train_odometer.ravel()).describe()).transpose()'''\n",
    "train_data['odometer'] = imputer.fit_transform(train_data['odometer'].values.reshape(-1, 1))"
   ]
  },
  {
   "cell_type": "code",
   "execution_count": 14,
   "metadata": {
    "id": "8EoB_KxkCk9I"
   },
   "outputs": [],
   "source": [
    "train_latitude = train_data['latitude']\n",
    "'''pd.DataFrame(pd.Series(train_latitude.ravel()).describe()).transpose()'''\n",
    "train_data['latitude'] = imputer.fit_transform(train_data['latitude'].values.reshape(-1, 1))\n",
    "\n",
    "train_longitude = train_data['longitude']\n",
    "'''pd.DataFrame(pd.Series(train_longitude.ravel()).describe()).transpose()'''\n",
    "train_data['longitude'] = imputer.fit_transform(train_data['longitude'].values.reshape(-1, 1))"
   ]
  },
  {
   "cell_type": "code",
   "execution_count": 15,
   "metadata": {
    "colab": {
     "base_uri": "https://localhost:8080/"
    },
    "id": "VA6iwhvoC007",
    "outputId": "f3b42672-5a8c-469f-d29a-11a8c3eddfab"
   },
   "outputs": [
    {
     "data": {
      "text/plain": [
       "year            0\n",
       "odometer        0\n",
       "latitude        0\n",
       "longitude       0\n",
       "price_of_car    0\n",
       "dtype: int64"
      ]
     },
     "execution_count": 15,
     "metadata": {},
     "output_type": "execute_result"
    }
   ],
   "source": [
    "train_data.isnull().sum()"
   ]
  },
  {
   "cell_type": "code",
   "execution_count": 16,
   "metadata": {
    "colab": {
     "base_uri": "https://localhost:8080/",
     "height": 669
    },
    "id": "oApi2fYnGRdh",
    "outputId": "7af3e2dd-93b8-4a86-aeb8-40d443639671"
   },
   "outputs": [
    {
     "data": {
      "text/html": [
       "<div>\n",
       "<style scoped>\n",
       "    .dataframe tbody tr th:only-of-type {\n",
       "        vertical-align: middle;\n",
       "    }\n",
       "\n",
       "    .dataframe tbody tr th {\n",
       "        vertical-align: top;\n",
       "    }\n",
       "\n",
       "    .dataframe thead th {\n",
       "        text-align: right;\n",
       "    }\n",
       "</style>\n",
       "<table border=\"1\" class=\"dataframe\">\n",
       "  <thead>\n",
       "    <tr style=\"text-align: right;\">\n",
       "      <th></th>\n",
       "      <th>year</th>\n",
       "      <th>odometer</th>\n",
       "      <th>latitude</th>\n",
       "      <th>longitude</th>\n",
       "      <th>price_of_car</th>\n",
       "    </tr>\n",
       "  </thead>\n",
       "  <tbody>\n",
       "    <tr>\n",
       "      <th>0</th>\n",
       "      <td>2018.0</td>\n",
       "      <td>97285.695692</td>\n",
       "      <td>29.540700</td>\n",
       "      <td>-98.552100</td>\n",
       "      <td>24900</td>\n",
       "    </tr>\n",
       "    <tr>\n",
       "      <th>1</th>\n",
       "      <td>2006.0</td>\n",
       "      <td>169438.000000</td>\n",
       "      <td>33.516100</td>\n",
       "      <td>-82.078500</td>\n",
       "      <td>0</td>\n",
       "    </tr>\n",
       "    <tr>\n",
       "      <th>2</th>\n",
       "      <td>2017.0</td>\n",
       "      <td>97285.695692</td>\n",
       "      <td>37.472843</td>\n",
       "      <td>-94.438136</td>\n",
       "      <td>4500</td>\n",
       "    </tr>\n",
       "    <tr>\n",
       "      <th>3</th>\n",
       "      <td>2017.0</td>\n",
       "      <td>97285.695692</td>\n",
       "      <td>37.472843</td>\n",
       "      <td>-94.438136</td>\n",
       "      <td>20000</td>\n",
       "    </tr>\n",
       "    <tr>\n",
       "      <th>4</th>\n",
       "      <td>2017.0</td>\n",
       "      <td>97285.695692</td>\n",
       "      <td>37.472843</td>\n",
       "      <td>-94.438136</td>\n",
       "      <td>0</td>\n",
       "    </tr>\n",
       "    <tr>\n",
       "      <th>5</th>\n",
       "      <td>2011.0</td>\n",
       "      <td>291960.000000</td>\n",
       "      <td>35.311900</td>\n",
       "      <td>-81.030600</td>\n",
       "      <td>6500</td>\n",
       "    </tr>\n",
       "    <tr>\n",
       "      <th>6</th>\n",
       "      <td>2017.0</td>\n",
       "      <td>97285.695692</td>\n",
       "      <td>37.472843</td>\n",
       "      <td>-94.438136</td>\n",
       "      <td>8995</td>\n",
       "    </tr>\n",
       "    <tr>\n",
       "      <th>7</th>\n",
       "      <td>2017.0</td>\n",
       "      <td>97285.695692</td>\n",
       "      <td>37.472843</td>\n",
       "      <td>-94.438136</td>\n",
       "      <td>7000</td>\n",
       "    </tr>\n",
       "    <tr>\n",
       "      <th>8</th>\n",
       "      <td>1961.0</td>\n",
       "      <td>18927.000000</td>\n",
       "      <td>28.552500</td>\n",
       "      <td>-81.757400</td>\n",
       "      <td>12500</td>\n",
       "    </tr>\n",
       "    <tr>\n",
       "      <th>9</th>\n",
       "      <td>2013.0</td>\n",
       "      <td>75513.000000</td>\n",
       "      <td>61.166300</td>\n",
       "      <td>-149.858000</td>\n",
       "      <td>15995</td>\n",
       "    </tr>\n",
       "    <tr>\n",
       "      <th>10</th>\n",
       "      <td>2017.0</td>\n",
       "      <td>40613.000000</td>\n",
       "      <td>29.046200</td>\n",
       "      <td>-80.934600</td>\n",
       "      <td>45850</td>\n",
       "    </tr>\n",
       "    <tr>\n",
       "      <th>11</th>\n",
       "      <td>2017.0</td>\n",
       "      <td>97285.695692</td>\n",
       "      <td>37.472843</td>\n",
       "      <td>-94.438136</td>\n",
       "      <td>465</td>\n",
       "    </tr>\n",
       "    <tr>\n",
       "      <th>12</th>\n",
       "      <td>2020.0</td>\n",
       "      <td>5835.000000</td>\n",
       "      <td>37.150700</td>\n",
       "      <td>-93.295800</td>\n",
       "      <td>18449</td>\n",
       "    </tr>\n",
       "    <tr>\n",
       "      <th>13</th>\n",
       "      <td>2017.0</td>\n",
       "      <td>97285.695692</td>\n",
       "      <td>37.472843</td>\n",
       "      <td>-94.438136</td>\n",
       "      <td>29980</td>\n",
       "    </tr>\n",
       "    <tr>\n",
       "      <th>14</th>\n",
       "      <td>2006.0</td>\n",
       "      <td>138095.000000</td>\n",
       "      <td>38.507700</td>\n",
       "      <td>-77.371200</td>\n",
       "      <td>7895</td>\n",
       "    </tr>\n",
       "    <tr>\n",
       "      <th>15</th>\n",
       "      <td>2017.0</td>\n",
       "      <td>97285.695692</td>\n",
       "      <td>37.472843</td>\n",
       "      <td>-94.438136</td>\n",
       "      <td>0</td>\n",
       "    </tr>\n",
       "    <tr>\n",
       "      <th>16</th>\n",
       "      <td>2014.0</td>\n",
       "      <td>168.000000</td>\n",
       "      <td>37.755900</td>\n",
       "      <td>-87.080300</td>\n",
       "      <td>17900</td>\n",
       "    </tr>\n",
       "    <tr>\n",
       "      <th>17</th>\n",
       "      <td>2017.0</td>\n",
       "      <td>97285.695692</td>\n",
       "      <td>37.472843</td>\n",
       "      <td>-94.438136</td>\n",
       "      <td>0</td>\n",
       "    </tr>\n",
       "    <tr>\n",
       "      <th>18</th>\n",
       "      <td>2017.0</td>\n",
       "      <td>97285.695692</td>\n",
       "      <td>37.472843</td>\n",
       "      <td>-94.438136</td>\n",
       "      <td>11000</td>\n",
       "    </tr>\n",
       "    <tr>\n",
       "      <th>19</th>\n",
       "      <td>2013.0</td>\n",
       "      <td>114194.000000</td>\n",
       "      <td>36.621800</td>\n",
       "      <td>-79.412400</td>\n",
       "      <td>8795</td>\n",
       "    </tr>\n",
       "  </tbody>\n",
       "</table>\n",
       "</div>"
      ],
      "text/plain": [
       "      year       odometer   latitude   longitude  price_of_car\n",
       "0   2018.0   97285.695692  29.540700  -98.552100         24900\n",
       "1   2006.0  169438.000000  33.516100  -82.078500             0\n",
       "2   2017.0   97285.695692  37.472843  -94.438136          4500\n",
       "3   2017.0   97285.695692  37.472843  -94.438136         20000\n",
       "4   2017.0   97285.695692  37.472843  -94.438136             0\n",
       "5   2011.0  291960.000000  35.311900  -81.030600          6500\n",
       "6   2017.0   97285.695692  37.472843  -94.438136          8995\n",
       "7   2017.0   97285.695692  37.472843  -94.438136          7000\n",
       "8   1961.0   18927.000000  28.552500  -81.757400         12500\n",
       "9   2013.0   75513.000000  61.166300 -149.858000         15995\n",
       "10  2017.0   40613.000000  29.046200  -80.934600         45850\n",
       "11  2017.0   97285.695692  37.472843  -94.438136           465\n",
       "12  2020.0    5835.000000  37.150700  -93.295800         18449\n",
       "13  2017.0   97285.695692  37.472843  -94.438136         29980\n",
       "14  2006.0  138095.000000  38.507700  -77.371200          7895\n",
       "15  2017.0   97285.695692  37.472843  -94.438136             0\n",
       "16  2014.0     168.000000  37.755900  -87.080300         17900\n",
       "17  2017.0   97285.695692  37.472843  -94.438136             0\n",
       "18  2017.0   97285.695692  37.472843  -94.438136         11000\n",
       "19  2013.0  114194.000000  36.621800  -79.412400          8795"
      ]
     },
     "execution_count": 16,
     "metadata": {},
     "output_type": "execute_result"
    }
   ],
   "source": [
    "train_data.head(20)"
   ]
  },
  {
   "cell_type": "code",
   "execution_count": 17,
   "metadata": {
    "id": "bG7oHnzB1_NJ"
   },
   "outputs": [],
   "source": [
    "# Input/independent variables\n",
    "X = train_data.drop('price_of_car', axis = 1)   # her we are droping the 'price_of_car' feature as this is the target and 'X' is input features, the changes are not \n",
    "                                              # made inplace as we have not used 'inplace = True'\n",
    "\n",
    "y = train_data['price_of_car']             # Output/Dependent variable"
   ]
  },
  {
   "cell_type": "code",
   "execution_count": 18,
   "metadata": {
    "id": "m7EGP5w360BD"
   },
   "outputs": [],
   "source": [
    "# import train_test_split\n",
    "from sklearn.model_selection import train_test_split"
   ]
  },
  {
   "cell_type": "code",
   "execution_count": 19,
   "metadata": {
    "id": "Dj5_kJ2Y7FnS"
   },
   "outputs": [],
   "source": [
    "# split the data\n",
    "X_train, X_val, y_train, y_val = train_test_split(X,y,test_size=0.3, random_state = 42)"
   ]
  },
  {
   "cell_type": "code",
   "execution_count": 20,
   "metadata": {
    "id": "s_o4idRVa9mJ"
   },
   "outputs": [],
   "source": [
    "#X_train['year'] = X_train['year'].fillna(X_train['year'].mode().iloc[0])\n",
    "#X_val['year'] = X_val['year'].fillna(X_val['year'].mode().iloc[0])\n",
    "\n",
    "#X_train['odometer'].fillna(X_train['odometer'].mean(), inplace=True)\n",
    "#X_train['latitude'].fillna(X_train['latitude'].mean(), inplace=True)\n",
    "#X_train['longitude'].fillna(X_train['longitude'].mean(), inplace=True)\n",
    "\n",
    "#X_val['odometer'].fillna(X_val['odometer'].mean(), inplace=True)\n",
    "#X_val['latitude'].fillna(X_val['latitude'].mean(), inplace=True)\n",
    "#X_val['longitude'].fillna(X_val['longitude'].mean(), inplace=True)"
   ]
  },
  {
   "cell_type": "code",
   "execution_count": 21,
   "metadata": {
    "colab": {
     "base_uri": "https://localhost:8080/"
    },
    "id": "ZvDXVCqab90K",
    "outputId": "b30d0322-e1a0-44c3-b2a7-2fe6ae7aedd3"
   },
   "outputs": [
    {
     "name": "stdout",
     "output_type": "stream",
     "text": [
      "<class 'pandas.core.frame.DataFrame'>\n",
      "Int64Index: 26250 entries, 36768 to 15795\n",
      "Data columns (total 4 columns):\n",
      " #   Column     Non-Null Count  Dtype  \n",
      "---  ------     --------------  -----  \n",
      " 0   year       26250 non-null  float64\n",
      " 1   odometer   26250 non-null  float64\n",
      " 2   latitude   26250 non-null  float64\n",
      " 3   longitude  26250 non-null  float64\n",
      "dtypes: float64(4)\n",
      "memory usage: 1.0 MB\n"
     ]
    }
   ],
   "source": [
    "X_train.info()"
   ]
  },
  {
   "cell_type": "code",
   "execution_count": 22,
   "metadata": {
    "colab": {
     "base_uri": "https://localhost:8080/"
    },
    "id": "aTUlo5AxcFkq",
    "outputId": "920cd11c-b0d5-41de-ac42-8cb29bb8b8d9"
   },
   "outputs": [
    {
     "name": "stdout",
     "output_type": "stream",
     "text": [
      "<class 'pandas.core.frame.DataFrame'>\n",
      "Int64Index: 11250 entries, 24985 to 4320\n",
      "Data columns (total 4 columns):\n",
      " #   Column     Non-Null Count  Dtype  \n",
      "---  ------     --------------  -----  \n",
      " 0   year       11250 non-null  float64\n",
      " 1   odometer   11250 non-null  float64\n",
      " 2   latitude   11250 non-null  float64\n",
      " 3   longitude  11250 non-null  float64\n",
      "dtypes: float64(4)\n",
      "memory usage: 439.5 KB\n"
     ]
    }
   ],
   "source": [
    "X_val.info()"
   ]
  },
  {
   "cell_type": "code",
   "execution_count": 23,
   "metadata": {
    "id": "ay4pnyq87LO8"
   },
   "outputs": [],
   "source": [
    "from sklearn.linear_model import LinearRegression"
   ]
  },
  {
   "cell_type": "code",
   "execution_count": 24,
   "metadata": {
    "id": "sE6vHN6t763C"
   },
   "outputs": [],
   "source": [
    "lr = LinearRegression(n_jobs=5,normalize=True)"
   ]
  },
  {
   "cell_type": "code",
   "execution_count": 25,
   "metadata": {
    "colab": {
     "base_uri": "https://localhost:8080/"
    },
    "id": "4YmXvx3B7-FH",
    "outputId": "0e5f05b7-c3b3-4236-9621-9dc000fde6a1"
   },
   "outputs": [
    {
     "name": "stderr",
     "output_type": "stream",
     "text": [
      "C:\\Users\\Harsha\\AppData\\Local\\Continuum\\anaconda3\\envs\\tensorflow_env\\lib\\site-packages\\sklearn\\linear_model\\_base.py:145: FutureWarning: 'normalize' was deprecated in version 1.0 and will be removed in 1.2.\n",
      "If you wish to scale the data, use Pipeline with a StandardScaler in a preprocessing stage. To reproduce the previous behavior:\n",
      "\n",
      "from sklearn.pipeline import make_pipeline\n",
      "\n",
      "model = make_pipeline(StandardScaler(with_mean=False), LinearRegression())\n",
      "\n",
      "If you wish to pass a sample_weight parameter, you need to pass it as a fit parameter to each step of the pipeline as follows:\n",
      "\n",
      "kwargs = {s[0] + '__sample_weight': sample_weight for s in model.steps}\n",
      "model.fit(X, y, **kwargs)\n",
      "\n",
      "\n",
      "  FutureWarning,\n"
     ]
    },
    {
     "data": {
      "text/plain": [
       "LinearRegression(n_jobs=5, normalize=True)"
      ]
     },
     "execution_count": 25,
     "metadata": {},
     "output_type": "execute_result"
    }
   ],
   "source": [
    "lr.fit(X_train, y_train)"
   ]
  },
  {
   "cell_type": "code",
   "execution_count": 26,
   "metadata": {
    "id": "0d5YdS-W8RD1"
   },
   "outputs": [],
   "source": [
    "pred = lr.predict(X_val)"
   ]
  },
  {
   "cell_type": "code",
   "execution_count": 27,
   "metadata": {
    "id": "ce4XV0GS-u_r"
   },
   "outputs": [],
   "source": [
    "# import mean squared error from sklearn.metric\n",
    "from sklearn.metrics import mean_squared_error"
   ]
  },
  {
   "cell_type": "code",
   "execution_count": 28,
   "metadata": {
    "colab": {
     "base_uri": "https://localhost:8080/"
    },
    "id": "LBI7JwY1-40F",
    "outputId": "c1dd1dae-e58d-4382-a8ac-4fcccce51d50"
   },
   "outputs": [
    {
     "name": "stdout",
     "output_type": "stream",
     "text": [
      "Root Mean Squared Error is:  16035.858119718576\n"
     ]
    }
   ],
   "source": [
    "print('Root Mean Squared Error is: ', np.sqrt(mean_squared_error(y_val, pred))) \n",
    "\n",
    "# y_val is the original target value of the validation set (X_val)\n",
    "# pred is the predicted target value of the validation set  "
   ]
  },
  {
   "cell_type": "code",
   "execution_count": 29,
   "metadata": {
    "colab": {
     "base_uri": "https://localhost:8080/"
    },
    "id": "u04_NgD6Fbuq",
    "outputId": "236c996d-d839-4689-9271-ec1c1f5f25e2"
   },
   "outputs": [
    {
     "data": {
      "text/plain": [
       "0.0009263236139716025"
      ]
     },
     "execution_count": 29,
     "metadata": {},
     "output_type": "execute_result"
    }
   ],
   "source": [
    "lr.score(X_train, y_train)"
   ]
  },
  {
   "cell_type": "code",
   "execution_count": null,
   "metadata": {
    "colab": {
     "base_uri": "https://localhost:8080/"
    },
    "id": "zWBesCCpFgB9",
    "outputId": "7351cb75-572c-40f4-f714-a1b2b593459c"
   },
   "outputs": [],
   "source": [
    "from sklearn.linear_model import LogisticRegression\n",
    "\n",
    "clf = LogisticRegression(C=0.5, solver=\"lbfgs\")\n",
    "clf.fit(X_train,y_train)"
   ]
  },
  {
   "cell_type": "code",
   "execution_count": null,
   "metadata": {
    "id": "RMQBgChSH5Uh"
   },
   "outputs": [],
   "source": [
    "pred_lrg = clf.predict(X_val)"
   ]
  },
  {
   "cell_type": "code",
   "execution_count": null,
   "metadata": {
    "colab": {
     "base_uri": "https://localhost:8080/"
    },
    "id": "QDSNX4ZbKakB",
    "outputId": "4e21e3db-b186-4ba2-c0fa-6f6a6286b6a5"
   },
   "outputs": [],
   "source": [
    "print('Root Mean Squared Error is: ', np.sqrt(mean_squared_error(y_val, pred_lrg))) \n",
    "\n",
    "# y_val is the original target value of the validation set (X_val)\n",
    "# pred is the predicted target value of the validation set  "
   ]
  },
  {
   "cell_type": "code",
   "execution_count": null,
   "metadata": {
    "id": "N_LHXg8ZAilM"
   },
   "outputs": [],
   "source": [
    "test_data = pd.read_csv('https://raw.githubusercontent.com/dphi-official/Datasets/master/used_car_price/test_set_label.csv')"
   ]
  },
  {
   "cell_type": "code",
   "execution_count": null,
   "metadata": {
    "id": "3mTmnXebccmQ"
   },
   "outputs": [],
   "source": [
    "test_data = test_data.select_dtypes(exclude='object')"
   ]
  },
  {
   "cell_type": "code",
   "execution_count": null,
   "metadata": {
    "id": "RAIESCo_ccm0"
   },
   "outputs": [],
   "source": [
    "test_data = test_data.drop('county', axis = 1)"
   ]
  },
  {
   "cell_type": "code",
   "execution_count": null,
   "metadata": {
    "id": "BrkdLDjiccm2"
   },
   "outputs": [],
   "source": [
    "#test_data['year'] = test_data['year'].fillna(test_data['year'].mode().iloc[0])\n",
    "\n",
    "#test_data['odometer'].fillna(test_data['odometer'].mean(), inplace=True)\n",
    "#test_data['latitude'].fillna(test_data['latitude'].mean(), inplace=True)\n",
    "#test_data['longitude'].fillna(test_data['longitude'].mean(), inplace=True)"
   ]
  },
  {
   "cell_type": "code",
   "execution_count": null,
   "metadata": {
    "id": "-BSwAoPyEWr8"
   },
   "outputs": [],
   "source": [
    "imputer = SimpleImputer(missing_values=np.nan, strategy='most_frequent')\n",
    "test_data_year = test_data['year']\n",
    "'''pd.DataFrame(pd.Series(test_data_year.ravel()).describe()).transpose()'''\n",
    "test_data['year'] = imputer.fit_transform(test_data['year'].values.reshape(-1, 1))"
   ]
  },
  {
   "cell_type": "code",
   "execution_count": null,
   "metadata": {
    "id": "eKs5LdWaEdwa"
   },
   "outputs": [],
   "source": [
    "imputer = SimpleImputer(missing_values=np.nan, strategy='mean')\n",
    "\n",
    "test_data['odometer'] = imputer.fit_transform(test_data['odometer'].values.reshape(-1, 1))\n",
    "test_data['latitude'] = imputer.fit_transform(test_data['latitude'].values.reshape(-1, 1))\n",
    "test_data['longitude'] = imputer.fit_transform(test_data['longitude'].values.reshape(-1, 1))\n",
    "\n"
   ]
  },
  {
   "cell_type": "code",
   "execution_count": null,
   "metadata": {
    "id": "i3Fsfy9iA1N7"
   },
   "outputs": [],
   "source": [
    "#target = lr.predict(test_data)\n",
    "target = clf.predict(test_data)"
   ]
  },
  {
   "cell_type": "code",
   "execution_count": null,
   "metadata": {
    "id": "B-qtMI35BQM4"
   },
   "outputs": [],
   "source": [
    "# LR prediciton that got a score = 22099.267561511988\n",
    "res = pd.DataFrame(target) #target is nothing but the final predictions of your model on input features of your new unseen test data\n",
    "res.index = test_data.index # its important for comparison. Here \"test_new\" is your new test dataset\n",
    "res.columns = [\"prediction\"]\n",
    "res.to_csv(\"submission.csv\")      # the csv file will be saved locally on the same location where this notebook is located."
   ]
  },
  {
   "cell_type": "code",
   "execution_count": null,
   "metadata": {
    "id": "jyT2vAGIDjnF"
   },
   "outputs": [],
   "source": [
    "# LogisticReg that got a score = 26341.90355758065\n",
    "res = pd.DataFrame(target) #target is nothing but the final predictions of your model on input features of your new unseen test data\n",
    "res.index = test_data.index # its important for comparison. Here \"test_new\" is your new test dataset\n",
    "res.columns = [\"prediction\"]\n",
    "res.to_csv(\"submission.csv\")      # the csv file will be saved locally on the same location where this notebook is located."
   ]
  },
  {
   "cell_type": "code",
   "execution_count": null,
   "metadata": {
    "colab": {
     "base_uri": "https://localhost:8080/",
     "height": 17
    },
    "id": "JgcOUpjKDzzI",
    "outputId": "5e56e73c-b90b-46db-efc3-540917839356"
   },
   "outputs": [
    {
     "data": {
      "application/javascript": [
       "\n",
       "    async function download(id, filename, size) {\n",
       "      if (!google.colab.kernel.accessAllowed) {\n",
       "        return;\n",
       "      }\n",
       "      const div = document.createElement('div');\n",
       "      const label = document.createElement('label');\n",
       "      label.textContent = `Downloading \"${filename}\": `;\n",
       "      div.appendChild(label);\n",
       "      const progress = document.createElement('progress');\n",
       "      progress.max = size;\n",
       "      div.appendChild(progress);\n",
       "      document.body.appendChild(div);\n",
       "\n",
       "      const buffers = [];\n",
       "      let downloaded = 0;\n",
       "\n",
       "      const channel = await google.colab.kernel.comms.open(id);\n",
       "      // Send a message to notify the kernel that we're ready.\n",
       "      channel.send({})\n",
       "\n",
       "      for await (const message of channel.messages) {\n",
       "        // Send a message to notify the kernel that we're ready.\n",
       "        channel.send({})\n",
       "        if (message.buffers) {\n",
       "          for (const buffer of message.buffers) {\n",
       "            buffers.push(buffer);\n",
       "            downloaded += buffer.byteLength;\n",
       "            progress.value = downloaded;\n",
       "          }\n",
       "        }\n",
       "      }\n",
       "      const blob = new Blob(buffers, {type: 'application/binary'});\n",
       "      const a = document.createElement('a');\n",
       "      a.href = window.URL.createObjectURL(blob);\n",
       "      a.download = filename;\n",
       "      div.appendChild(a);\n",
       "      a.click();\n",
       "      div.remove();\n",
       "    }\n",
       "  "
      ],
      "text/plain": [
       "<IPython.core.display.Javascript object>"
      ]
     },
     "metadata": {
      "tags": []
     },
     "output_type": "display_data"
    },
    {
     "data": {
      "application/javascript": [
       "download(\"download_1ab3ad0b-16fe-471c-a81e-1c9108d436c8\", \"submission.csv\", 25662)"
      ],
      "text/plain": [
       "<IPython.core.display.Javascript object>"
      ]
     },
     "metadata": {
      "tags": []
     },
     "output_type": "display_data"
    }
   ],
   "source": [
    "# To create Dataframe of predicted value with particular respective index\n",
    "res = pd.DataFrame(target) # target are nothing but the final predictions of your model on input features of your new unseen test data\n",
    "res.index = test_data.index # its important for comparison. Here \"test_new\" is your new test dataset\n",
    "res.columns = [\"prediction\"]\n",
    "\n",
    "# To download the csv file locally\n",
    "from google.colab import files\n",
    "res.to_csv('submission.csv', index=False)         \n",
    "files.download('submission.csv')"
   ]
  }
 ],
 "metadata": {
  "colab": {
   "collapsed_sections": [
    "kwaoUjodC2Ph",
    "xrNaxq9KEp0n",
    "VghEzJ8zE4kM"
   ],
   "name": "data-sprint-23-used-cars-prices.ipynb",
   "provenance": []
  },
  "kernelspec": {
   "display_name": "Python 3",
   "language": "python",
   "name": "python3"
  },
  "language_info": {
   "codemirror_mode": {
    "name": "ipython",
    "version": 3
   },
   "file_extension": ".py",
   "mimetype": "text/x-python",
   "name": "python",
   "nbconvert_exporter": "python",
   "pygments_lexer": "ipython3",
   "version": "3.7.7"
  }
 },
 "nbformat": 4,
 "nbformat_minor": 1
}
